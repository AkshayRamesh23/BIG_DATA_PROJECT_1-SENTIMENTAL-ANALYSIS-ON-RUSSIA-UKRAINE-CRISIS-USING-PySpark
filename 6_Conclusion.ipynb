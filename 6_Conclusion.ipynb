{
 "cells": [
  {
   "cell_type": "markdown",
   "id": "caef68a3-eb77-4472-b6d8-9896df645919",
   "metadata": {},
   "source": [
    "# Challenges faced\n",
    "\n",
    "- In this project I am dealing with unstructured data.\n",
    "- Identifying a data source on which I can train my Supervised Machine Learning model.\n",
    "- Learning about NPL preprocessing and Text Analytics where I have used regular expressions.\n",
    "- Integrating mongoDB and Kafka with my Juypter Notebook.\n",
    "- Learning about how to use Spark UI including DAG (Directed Acyclic Graph) for debugging issues."
    
   ]
  },
  {
   "cell_type": "markdown",
   "id": "d45c7a59-11ed-47d3-8290-c3beac79af3e",
   "metadata": {},
   "source": [
    "# Final Note"
   ]
  },
  {
   "cell_type": "markdown",
   "id": "b54b45c8-0e96-4f2d-bb05-04ac5e9bdf05",
   "metadata": {},
   "source": [
    "I have tried my best to make sure that this project simulates the Real-Time scenarios. Also, I have used all the things I have learned in the class such as NoSQL DB for storage, PySPark for Analysis, SparkML for making predictions and finally storaging back my final results into NoSQL DB."
   ]
  },
  {
   "cell_type": "markdown",
   "id": "3deed5a5-07c2-478e-a1b0-25a173104f26",
   "metadata": {},
   "source": [
    "This archicture can be used to perform sentimental analysis on other data source either streaming data sources like Reddit or on historical data source."
   ]
  },
  {
   "cell_type": "markdown",
   "id": "630c84ae-262b-4100-9464-b5f63d3801a5",
   "metadata": {},
   "source": [
    "# References:\n",
    "\n",
    "- https://developer.hpe.com/blog/streaming-ml-pipeline-for-sentiment-analysis-using-apache-apis-kafka-spark-and-drill-part-2/\n",
    "- https://spark.apache.org/docs/latest/ml-classification-regression.html\n",
    "- https://spark.apache.org/docs/latest/ml-clustering.html\n",
    "- https://chat.openai.com/"
   ]
  }
 ],
 "metadata": {
  "kernelspec": {
   "display_name": "Python 3 (ipykernel)",
   "language": "python",
   "name": "python3"
  },
  "language_info": {
   "codemirror_mode": {
    "name": "ipython",
    "version": 3
   },
   "file_extension": ".py",
   "mimetype": "text/x-python",
   "name": "python",
   "nbconvert_exporter": "python",
   "pygments_lexer": "ipython3",
   "version": "3.9.12"
  }
 },
 "nbformat": 4,
 "nbformat_minor": 5
}
